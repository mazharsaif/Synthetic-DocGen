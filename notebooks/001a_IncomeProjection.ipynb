{
 "cells": [
  {
   "cell_type": "code",
   "execution_count": null,
   "metadata": {},
   "outputs": [],
   "source": [
    "from openpyxl.workbook import Workbook\n",
    "from openpyxl import load_workbook\n",
    "import excel2img\n",
    "import random"
   ]
  },
  {
   "cell_type": "code",
   "execution_count": null,
   "metadata": {},
   "outputs": [],
   "source": [
    "def true_with_probability(x):\n",
    "    return random.random() < (x / 100.0)\n",
    "true_with_probability(11)"
   ]
  },
  {
   "cell_type": "code",
   "execution_count": null,
   "metadata": {},
   "outputs": [],
   "source": [
    "import sys\n",
    "sys.path.append(\"../\")\n",
    "from random_data_utils.company_name_utils import get_random_company_name\n",
    "from random_data_utils.date_utils import get_random_date\n",
    "from random_data_utils.font_utils import get_random_font\n",
    "get_random_date()\n",
    "get_random_company_name()\n",
    "get_random_font()"
   ]
  },
  {
   "cell_type": "code",
   "execution_count": null,
   "metadata": {},
   "outputs": [],
   "source": []
  },
  {
   "cell_type": "code",
   "execution_count": null,
   "metadata": {},
   "outputs": [],
   "source": [
    "def get_random_table_header():\n",
    "    table_titles = [\n",
    "        \"Projected Income Statement\",\n",
    "        \"Income Statement\",\n",
    "        \"Financial Statement\",\n",
    "        \"Financial Memo\",\n",
    "        \"Financial Spreads\",\n",
    "        \"Revenue and Expense Statement\",\n",
    "        \"Operating Statement\",\n",
    "        \"Statement of Income\",\n",
    "        \"Statement of Earnings\",\n",
    "        \"Statement of Operations\",\n",
    "        \"Profit and Loss Statement (P&L)\"\n",
    "    ]\n",
    "\n",
    "    return random.choice(table_titles)\n",
    "\n",
    "get_random_table_header()"
   ]
  },
  {
   "cell_type": "code",
   "execution_count": null,
   "metadata": {},
   "outputs": [],
   "source": [
    "def get_random_year():\n",
    "    return random.choice(list(range(1850, 2300)))\n",
    "get_random_year()"
   ]
  },
  {
   "cell_type": "code",
   "execution_count": null,
   "metadata": {},
   "outputs": [],
   "source": [
    "i=30"
   ]
  },
  {
   "cell_type": "code",
   "execution_count": null,
   "metadata": {},
   "outputs": [],
   "source": [
    "import random\n",
    "import locale\n",
    "\n",
    "def generate_random_cost_value():\n",
    "    if true_with_probability(40):\n",
    "        return \"\"\n",
    "    # Randomly determine if the amount should be positive or negative\n",
    "    is_positive = random.choice([True, False])\n",
    "    \n",
    "    # Generate a random float amount (without the sign)\n",
    "    amount = random.uniform(1, 1000)  # Adjust the range as needed\n",
    "    \n",
    "    # Format the amount based on whether it should be positive or negative\n",
    "\n",
    "    if is_positive:\n",
    "        formatted_amount = f\"${amount:.0f}\"\n",
    "    else:\n",
    "        # Randomly choose whether to enclose the amount in parentheses or neg\n",
    "        formatted_amount = random.choice([f\"-${amount:.0f}\", f\"({amount:.0f})\"])\n",
    "    \n",
    "    \n",
    "    return formatted_amount\n",
    "\n",
    "for _ in range(10):\n",
    "    print(generate_random_cost_value())\n",
    "\n",
    "# $141361\n",
    "# $624917\n",
    "# -$720057\n",
    "# -$371788\n",
    "# (589585)\n",
    "# -$352989\n",
    "# -$778186\n",
    "# (539295)\n",
    "# -$836367\n",
    "# $74833"
   ]
  },
  {
   "cell_type": "code",
   "execution_count": null,
   "metadata": {},
   "outputs": [],
   "source": [
    "def get_random_font():\n",
    "    # font_list = [\"Calibri\", \"Arial\", \"\"]\n",
    "    # font_names\n",
    "    ft = Font(name=random.choice(font_names),\n",
    "         size=random.choice(list(range(5, 15))),\n",
    "         bold = random.choice([False, True, False]),\n",
    "         italic = random.choice([False, True]),\n",
    "         underline = random.choice(['doubleAccounting', 'single', 'singleAccounting', 'double']),\n",
    "        #  color = random.choice(['FF000000', ])\n",
    "         )\n",
    "    \n",
    "    return ft\n"
   ]
  },
  {
   "cell_type": "code",
   "execution_count": null,
   "metadata": {},
   "outputs": [],
   "source": [
    "def create_random_document(sheet_name='Projected Income Statement'):\n",
    "    wb = load_workbook(r\"..\\data\\document-templates\\excel\\001_IncomeStatement.xlsx\")\n",
    "    ws = wb[sheet_name]  # Replace 'Sheet1' with your sheet name\n",
    "    ws[\"B1\"].value = get_random_table_header() # Table Header\n",
    "    ws[\"B3\"].value = get_random_company_name() # Company Name\n",
    "\n",
    "    # C5:G5 columns have year names\n",
    "    \n",
    "    start_year = get_random_year()\n",
    "    for col in [\"C\", \"D\", \"E\", \"F\", \"G\"]:\n",
    "        ws[f\"{col}5\"].value = start_year\n",
    "        start_year += 1\n",
    "\n",
    "        for row in [7,8,9, 11,12,13, *list(range(16,30)), 31,32,34,36,37]:\n",
    "            cell = f\"{col}{row}\"\n",
    "\n",
    "            ws[cell].value = generate_random_cost_value()\n",
    "        \n",
    "        \n",
    "\n",
    "    font = get_random_font()\n",
    "    font2 = get_random_font()\n",
    "    # Iterate through all cells in the sheet\n",
    "    for row in ws.iter_rows():\n",
    "        for cell in row:\n",
    "            # Create a new Font object with desired properties\n",
    "            # cell.font = Font(name=font_name, size=font_size, bold=bold, italic=italic)\n",
    "            cell.font = font\n",
    "    for cell in ws[\"C\"]:\n",
    "        # print('x')\n",
    "        cell.font = font2\n",
    "\n",
    "    ws.sheet_view.showGridLines = random.choice([False, True])\n",
    "    wb.save(\"E001a_IncomeProjection.xlsx\")\n",
    "    excel2img.export_img(r\"E001a_IncomeProjection.xlsx\" , rf\"..\\data\\output\\E001a_IncomeProjection\\image_{i}.png\",sheet_name, None)\n",
    "    print(f\"Saved file: `image_{i}.png` at ..\\data\\output\\E001a_IncomeProjection\")"
   ]
  },
  {
   "cell_type": "code",
   "execution_count": null,
   "metadata": {},
   "outputs": [],
   "source": [
    "for _ in range(20):\n",
    "    i +=1\n",
    "    # create_random_document()\n",
    "    create_random_document(sheet_name=\"b\")"
   ]
  },
  {
   "cell_type": "code",
   "execution_count": null,
   "metadata": {},
   "outputs": [],
   "source": []
  },
  {
   "cell_type": "code",
   "execution_count": null,
   "metadata": {},
   "outputs": [],
   "source": []
  }
 ],
 "metadata": {
  "kernelspec": {
   "display_name": "docgen37",
   "language": "python",
   "name": "python3"
  },
  "language_info": {
   "codemirror_mode": {
    "name": "ipython",
    "version": 3
   },
   "file_extension": ".py",
   "mimetype": "text/x-python",
   "name": "python",
   "nbconvert_exporter": "python",
   "pygments_lexer": "ipython3",
   "version": "3.7.16"
  }
 },
 "nbformat": 4,
 "nbformat_minor": 2
}
