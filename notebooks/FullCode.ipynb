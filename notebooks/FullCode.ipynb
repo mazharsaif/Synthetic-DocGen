{
 "cells": [
  {
   "cell_type": "code",
   "execution_count": 2,
   "metadata": {},
   "outputs": [],
   "source": [
    "from openpyxl.workbook import Workbook\n",
    "from openpyxl import load_workbook\n",
    "import excel2img\n",
    "import random\n"
   ]
  },
  {
   "cell_type": "code",
   "execution_count": 3,
   "metadata": {},
   "outputs": [
    {
     "data": {
      "text/plain": [
       "False"
      ]
     },
     "execution_count": 3,
     "metadata": {},
     "output_type": "execute_result"
    }
   ],
   "source": [
    "def true_with_probability(x):\n",
    "    return random.random() < (x / 100.0)\n",
    "true_with_probability(11)"
   ]
  },
  {
   "cell_type": "code",
   "execution_count": 94,
   "metadata": {},
   "outputs": [],
   "source": []
  },
  {
   "cell_type": "code",
   "execution_count": 136,
   "metadata": {},
   "outputs": [
    {
     "data": {
      "text/plain": [
       "('5 star Auto Glass LevCap:',\n",
       " '₹ Thousands',\n",
       " ('Senior Secured Only Debt',\n",
       "  'RLOC',\n",
       "  'Total Debt',\n",
       "  'Total Capitalization',\n",
       "  'Market Value'),\n",
       " 'Jun/15')"
      ]
     },
     "execution_count": 136,
     "metadata": {},
     "output_type": "execute_result"
    }
   ],
   "source": [
    "def get_random_company_name():\n",
    "    with open(rf\"..\\data\\random_texts\\company_names.txt\") as fp:\n",
    "        company_names = fp.read().split('\\n')\n",
    "    return random.choice(company_names)\n",
    "\n",
    "def get_random_table_header():\n",
    "    titles = [\"Leverage Captialization\",\n",
    "              \"LevCap\",\n",
    "              \"Capitalization\",\n",
    "              \"Proforma-Capitalization\",\n",
    "              \"Proforma Capitalization\",\n",
    "              ]\n",
    "    titles = titles + [i.upper() for i in titles]\n",
    "    symbol_sep = [i+\":\" for i in titles]\n",
    "    symbol_sep = symbol_sep + [i+\"-\" for i in titles]\n",
    "    titles = titles + symbol_sep\n",
    "\n",
    "    header = random.choice(titles)\n",
    "    company_name = get_random_company_name()\n",
    "    return random.choice([f\"{header} {company_name}\",\n",
    "                          f\"{company_name} {header}\",\n",
    "                          f\"{header}\"\n",
    "                          ])\n",
    "                          \n",
    "\n",
    "def get_random_amount_unit():\n",
    "    units = [\n",
    "        \"000s\", \"000's\", \"1,000s\", \"M\", \"MM\", \"Millions\",\n",
    "        \"millions\", \"USD\", \"CAD\", \"$000s\", \"$MM\", \"$M\", \"Thousands\",\n",
    "        \"₹ Lakhs\", \"₹ Crores\", \"₹ Thousands\", \"($MM)\", \"($M)\"\n",
    "    ]\n",
    "\n",
    "    return random.choice(units)\n",
    "\n",
    "def get_column_max_text_width(sheet, column:str):\n",
    "    max_length = 0\n",
    "    for cell in sheet[column]:\n",
    "        # Find the maximum length of the text in the column\n",
    "        try:\n",
    "            if len(str(cell.value)) > max_length:\n",
    "                max_length = len(str(cell.value))\n",
    "\n",
    "            print(cell, len(str(cell.value)))\n",
    "        except:\n",
    "            pass\n",
    "\n",
    "    return max_length\n",
    "\n",
    "\n",
    "from itertools import permutations\n",
    "sub_rows = [\n",
    "    \"Revolver\",\n",
    "    \"Term Loan\",\n",
    "    \"Senior Debt\",\n",
    "    \"Senior Secured Only Debt\",\n",
    "    \"Total Debt\",\n",
    "    \"Market Value\",\n",
    "    \"Equity Adjustment\",\n",
    "    \"Total Capitalization\",\n",
    "    \"RLOC\"\n",
    "]\n",
    "sub_rows_permutations = [\n",
    "    list(permutations(sub_rows, i)) for i in range(3, len(sub_rows)+1)\n",
    "]\n",
    "\n",
    "def get_random_sub_rows():\n",
    "    return random.choice(random.choice(sub_rows_permutations))\n",
    "\n",
    "\n",
    "import random\n",
    "from datetime import datetime, timedelta\n",
    "\n",
    "def get_random_date(start=datetime(1990, 1, 1), end=datetime(2024, 1, 1)):\n",
    "    \"\"\"Generate a random datetime between `start` and `end`\"\"\"\n",
    "    delta = end - start\n",
    "    int_delta = delta.days\n",
    "    random_day = random.randrange(int_delta)\n",
    "    date = start + timedelta(days=random_day)\n",
    "\n",
    "\n",
    "    # Define the different formats\n",
    "    formats = [\n",
    "        \"%d-%m-%Y\",         # DD-MM-YYYY\n",
    "        \"%d-%m\",            # DD-MM\n",
    "        \"%d-%B-%y\",         # DD-January-YY\n",
    "        \"%b/%d\",            # Jan/12\n",
    "    ]\n",
    "\n",
    "\n",
    "    return date.strftime(random.choice(formats))\n",
    "\n",
    "get_random_table_header(), get_random_amount_unit(), get_random_sub_rows(),get_random_date()"
   ]
  },
  {
   "cell_type": "code",
   "execution_count": 7,
   "metadata": {},
   "outputs": [],
   "source": [
    "i=0"
   ]
  },
  {
   "cell_type": "code",
   "execution_count": 24,
   "metadata": {},
   "outputs": [],
   "source": [
    "ws[\"B1\"].value"
   ]
  },
  {
   "cell_type": "code",
   "execution_count": 92,
   "metadata": {},
   "outputs": [
    {
     "name": "stdout",
     "output_type": "stream",
     "text": [
      "A2 A2\n",
      "M\n",
      "M\n",
      "SUB A3\n",
      "SUB A4\n",
      "SUB A5\n",
      "<Cell 'FullCode'.A1> 4\n",
      "<Cell 'FullCode'.A2> 1\n",
      "<Cell 'FullCode'.A3> 20\n",
      "<Cell 'FullCode'.A4> 10\n",
      "<Cell 'FullCode'.A5> 17\n",
      "18\n"
     ]
    }
   ],
   "source": [
    "wb = load_workbook(r\"..\\data\\document-templates\\excel\\levcap-CAD.xlsx\")\n",
    "ws = wb['FullCode']  # Replace 'Sheet1' with your sheet name\n",
    "\n",
    "CELL_MAP = {}\n",
    "header_location = None\n",
    "header_unit_location = None\n",
    "revolver_header_location = None\n",
    "\n",
    "# Table Header Text\n",
    "table_header_p = true_with_probability(80)\n",
    "if table_header_p:\n",
    "    table_header_text = get_random_table_header()\n",
    "    header_location = random.choice([\"A1\", \"A2\"]) \n",
    "    ws[header_location].value = table_header_text\n",
    "\n",
    "    CELL_MAP[\"table_header\"]=header_location\n",
    "\n",
    "    # # Resize columns\n",
    "    # ws.column_dimensions['A'].width = 50  # Set the width of column A to 20\n",
    "    # ws.column_dimensions['B'].width = 30  # Set the width of column B to 30\n",
    "\n",
    "    # # Resize rows\n",
    "    # ws.row_dimensions[1].height = 40  # Set the height of row 1 to 40\n",
    "    # ws.row_dimensions[2].height = 50  # Set the height of row 2 to 50\n",
    "\n",
    "    # ws.merge_cells(\"A1:D1\")\n",
    "\n",
    "\n",
    "# Amount Unit Column Left Col Top\n",
    "if true_with_probability(50):\n",
    "    if header_location:\n",
    "        header_unit_location=random.choice([header_location[0], \"B\"]) +str(int(header_location[1])+random.choice([1,2]))\n",
    "        CELL_MAP[\"header_unit_location\"] = header_unit_location\n",
    "\n",
    "        ws[header_unit_location].value = get_random_amount_unit()\n",
    "\n",
    "# Insert first group\n",
    "if header_unit_location:\n",
    "    group1_location = header_unit_location[0]+ str(int(header_unit_location[1]+1))\n",
    "else:\n",
    "    group1_location = random.choice([\"B2\", \"B3\", \"C2\"])\n",
    "\n",
    "group1_location.value = get_random_date() + random.choice([\"Current\", \"\", \"\\n\"])\n",
    "\n",
    "group1_sub_columns = [\"Debt O/S\", \"%\", \"EBITDA Multiple\"]\n",
    "\n",
    "\n",
    "    \n",
    "\n",
    "print(header_location, header_unit_location)\n",
    "if header_location: print(ws[header_location].value)\n",
    "if header_unit_location: print(ws[header_unit_location].value)\n",
    "\n",
    "#Sub Row Titles\n",
    "if true_with_probability(80):\n",
    "    if header_unit_location:\n",
    "        sub_row_start = header_unit_location[0] +str(1+ int(header_unit_location[1]))\n",
    "    else:\n",
    "        sub_row_start = random.choice([\"A2\", \"A3\"])\n",
    "\n",
    "    current_col = sub_row_start[0]\n",
    "    current_row = sub_row_start[1]\n",
    "\n",
    "    sub_rows = get_random_sub_rows()\n",
    "    for sub in sub_rows:\n",
    "        \n",
    "        cell_location = current_col+current_row\n",
    "        print(\"SUB\", cell_location)\n",
    "        ws[cell_location].value = random.choice([sub, sub.upper()])\n",
    "        \n",
    "        CELL_MAP[sub.replace(\" \", \"\").lower()] = cell_location\n",
    "        current_row = str(int(current_row)+random.choice([1,1,1,2]))\n",
    "    \n",
    "    ws.column_dimensions[current_col].width = get_column_max_text_width(ws, current_col) + random.choice(list(range(2,30)))  # Set the width of column B to 30\n",
    "\n",
    "\n",
    "    \n",
    "i+=1\n",
    "print(i)\n",
    "ws.sheet_view.showGridLines = random.choice([False, True])\n",
    "wb.save(\"new_xl2.xlsx\")\n",
    "excel2img.export_img(r\"new_xl2.xlsx\" , rf\"..\\data\\output\\excel\\FullCode\\image_{i}.png\",\"FullCode\", None)\n",
    "\n"
   ]
  },
  {
   "cell_type": "code",
   "execution_count": 102,
   "metadata": {},
   "outputs": [],
   "source": [
    "ws[\"C1\"].value=\"AAAAAAAA\\nCCCCCCCCC\\nDDDDDDDDD\"\n",
    "from openpyxl.styles import Alignment\n",
    "ws[\"C1\"].alignment = Alignment(wrap_text=True)\n",
    "ws.sheet_view.showGridLines = True\n",
    "wb.save(\"new_xl3.xlsx\")\n",
    "excel2img.export_img(r\"new_xl3.xlsx\" , rf\"..\\data\\output\\excel\\FullCode\\image_{i}.png\",\"FullCode\", None)"
   ]
  },
  {
   "cell_type": "code",
   "execution_count": 52,
   "metadata": {},
   "outputs": [
    {
     "name": "stdout",
     "output_type": "stream",
     "text": [
      "(1, 2)\n",
      "(1, 3)\n",
      "(1, 4)\n",
      "(2, 1)\n",
      "(2, 3)\n",
      "(2, 4)\n",
      "(3, 1)\n",
      "(3, 2)\n",
      "(3, 4)\n",
      "(4, 1)\n",
      "(4, 2)\n",
      "(4, 3)\n",
      "<Cell 'FullCode'.A1> 26\n",
      "<Cell 'FullCode'.A2> 4\n"
     ]
    },
    {
     "data": {
      "text/plain": [
       "26"
      ]
     },
     "execution_count": 52,
     "metadata": {},
     "output_type": "execute_result"
    }
   ],
   "source": [
    "\n",
    "\n",
    "# Example list and values for n and k\n",
    "example_list = [1, 2, 3, 4]\n",
    "k = 2\n",
    "\n",
    "# Generate permutations\n",
    "perms = list(permutations(example_list, k))\n",
    "\n",
    "# Print the permutations\n",
    "for perm in perms:\n",
    "    print(perm)\n",
    "\n"
   ]
  },
  {
   "cell_type": "code",
   "execution_count": 43,
   "metadata": {},
   "outputs": [
    {
     "data": {
      "text/plain": [
       "26"
      ]
     },
     "execution_count": 43,
     "metadata": {},
     "output_type": "execute_result"
    }
   ],
   "source": [
    "len(ws[\"A1\"].value)"
   ]
  },
  {
   "cell_type": "code",
   "execution_count": null,
   "metadata": {},
   "outputs": [],
   "source": []
  },
  {
   "cell_type": "code",
   "execution_count": null,
   "metadata": {},
   "outputs": [],
   "source": []
  },
  {
   "cell_type": "code",
   "execution_count": 31,
   "metadata": {},
   "outputs": [
    {
     "data": {
      "text/plain": [
       "0"
      ]
     },
     "execution_count": 31,
     "metadata": {},
     "output_type": "execute_result"
    }
   ],
   "source": []
  },
  {
   "cell_type": "code",
   "execution_count": 9,
   "metadata": {},
   "outputs": [],
   "source": [
    "\n",
    "def auto_adjust_column_width(sheet, column:str, buffer:int=2):\n",
    "    # Iterate over all columns in the sheet\n",
    "\n",
    "    for cell in sheet[column]:\n",
    "        max_length = 0\n",
    "        # Find the maximum length of the text in the column\n",
    "        for cell in column:\n",
    "            try:\n",
    "                if len(str(cell.value)) > max_length:\n",
    "                    max_length = len(str(cell.value))\n",
    "            except:\n",
    "                pass\n",
    "        # Adjust the column width\n",
    "        adjusted_width = max_length + buffer  # Adding a little extra space\n",
    "        sheet.column_dimensions[column].width = adjusted_width\n",
    "i+=1\n",
    "wb.save(\"new_xl3.xlsx\")\n",
    "excel2img.export_img(r\"new_xl3.xlsx\" , rf\"..\\data\\output\\excel\\FullCode\\image_{i}.png\",\"FullCode\", None)\n"
   ]
  },
  {
   "cell_type": "code",
   "execution_count": 134,
   "metadata": {},
   "outputs": [
    {
     "data": {
      "text/plain": [
       "'09-September-90'"
      ]
     },
     "execution_count": 134,
     "metadata": {},
     "output_type": "execute_result"
    }
   ],
   "source": [
    "\n",
    "\n",
    "\n",
    "get_random_date()\n"
   ]
  }
 ],
 "metadata": {
  "kernelspec": {
   "display_name": "docgen37",
   "language": "python",
   "name": "python3"
  },
  "language_info": {
   "codemirror_mode": {
    "name": "ipython",
    "version": 3
   },
   "file_extension": ".py",
   "mimetype": "text/x-python",
   "name": "python",
   "nbconvert_exporter": "python",
   "pygments_lexer": "ipython3",
   "version": "3.7.16"
  }
 },
 "nbformat": 4,
 "nbformat_minor": 2
}
