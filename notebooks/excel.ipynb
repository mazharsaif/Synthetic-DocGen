{
 "cells": [
  {
   "cell_type": "code",
   "execution_count": 1,
   "metadata": {},
   "outputs": [],
   "source": [
    "from openpyxl.workbook import Workbook\n",
    "from openpyxl import load_workbook\n",
    "import excel2img\n",
    "wb = load_workbook(r\"..\\data\\document-templates\\excel\\levcap-CAD.xlsx\")\n",
    "ws = wb['Sheet2']  # Replace 'Sheet1' with your sheet name"
   ]
  },
  {
   "cell_type": "code",
   "execution_count": 2,
   "metadata": {},
   "outputs": [],
   "source": [
    "a = \"\"\"revolver_debt_y1\tB5\n",
    "term_loan_debt_y1\tB6\n",
    "leases_debt_y1\tB7\n",
    "total_senior_debt_debt_y1\tB8\n",
    "senior_debt_debt_y1\tB9\n",
    "equity_adj_debt_y1\tB10\n",
    "market_val_debt_y1\tB11\n",
    "total_cap_debt_y1\tB12\n",
    "revolver_debt_y2\tE5\n",
    "term_loan_debt_y2\tE6\n",
    "leases_debt_y2\tE7\n",
    "total_senior_debt_debt_y2\tE8\n",
    "senior_debt_debt_y2\tE9\n",
    "equity_adj_debt_y2\tE10\n",
    "market_val_debt_y2\tE11\n",
    "total_cap_debt_y2\tE12\n",
    "revolver_pery1\tC5\n",
    "term_loan_pery1\tC6\n",
    "leases_pery1\tC7\n",
    "total_senior_debt_pery1\tC8\n",
    "senior_debt_pery1\tC9\n",
    "equity_adj_pery1\tC10\n",
    "market_val_pery1\tC11\n",
    "total_cap_pery1\tC12\n",
    "revolver_pery2\tF5\n",
    "term_loan_pery2\tF6\n",
    "leases_pery2\tF7\n",
    "total_senior_debt_pery2\tF8\n",
    "senior_debt_pery2\tF9\n",
    "equity_adj_pery2\tF10\n",
    "market_val_pery2\tF11\n",
    "total_cap_pery2\tF12\n",
    "revolver_Eby1\tD5\n",
    "term_loan_Eby1\tD6\n",
    "leases_Eby1\tD7\n",
    "total_senior_debt_Eby1\tD8\n",
    "senior_debt_Eby1\tD9\n",
    "equity_adj_Eby1\tD10\n",
    "market_val_Eby1\tD11\n",
    "total_cap_Eby1\tD12\n",
    "revolver_Eby2\tG5\n",
    "term_loan_Eby2\tG6\n",
    "leases_Eby2\tG7\n",
    "total_senior_debt_Eby2\tG8\n",
    "senior_debt_Eby2\tG9\n",
    "equity_adj_Eby2\tG10\n",
    "market_val_Eby2\tG11\n",
    "total_cap_Eby2\tG12\n",
    "\"\"\".strip().split(\"\\n\")\n",
    "\n",
    "kv = {}\n",
    "for o in a:\n",
    "    k,v = o.split('\\t')\n",
    "    kv[k] = v\n"
   ]
  },
  {
   "cell_type": "code",
   "execution_count": 3,
   "metadata": {},
   "outputs": [
    {
     "data": {
      "text/plain": [
       "datetime.datetime(2019, 9, 30, 0, 0)"
      ]
     },
     "execution_count": 3,
     "metadata": {},
     "output_type": "execute_result"
    }
   ],
   "source": [
    "ws[\"E2\"].value"
   ]
  },
  {
   "cell_type": "code",
   "execution_count": 4,
   "metadata": {},
   "outputs": [],
   "source": [
    "debt_cells = [] \n",
    "ebitda_cells = []\n",
    "percent_cells = []\n",
    "date_cells = ['B2', 'E2']\n",
    "for k,v in kv.items():\n",
    "    if 'debt' in k:\n",
    "        # print(k,v)\n",
    "        debt_cells.append(v)\n",
    "    if 'Eby' in k:\n",
    "        ebitda_cells.append(v)\n",
    "    if 'pery' in k:\n",
    "        percent_cells.append(v)"
   ]
  },
  {
   "cell_type": "code",
   "execution_count": 5,
   "metadata": {},
   "outputs": [
    {
     "name": "stdout",
     "output_type": "stream",
     "text": [
      "1991-04-20\n"
     ]
    }
   ],
   "source": [
    "import random\n",
    "from datetime import datetime, timedelta\n",
    "\n",
    "def generate_random_date(start_date, end_date):\n",
    "    \"\"\"\n",
    "    Generate a random date between start_date and end_date.\n",
    "    \n",
    "    Parameters:\n",
    "    start_date (datetime): The start date (inclusive).\n",
    "    end_date (datetime): The end date (inclusive).\n",
    "    \n",
    "    Returns:\n",
    "    datetime: A random date between start_date and end_date.\n",
    "    \"\"\"\n",
    "    # Calculate the difference in days between start_date and end_date\n",
    "    delta = end_date - start_date\n",
    "    \n",
    "    # Generate a random number of days to add to start_date\n",
    "    random_days = random.randint(0, delta.days)\n",
    "    \n",
    "    # Generate the random date\n",
    "    random_date = start_date + timedelta(days=random_days)\n",
    "    \n",
    "    return random_date.date()\n",
    "\n",
    "# Example usage:\n",
    "start_date = datetime(1990, 1, 1)\n",
    "end_date = datetime(2023, 12, 31)\n",
    "\n",
    "random_date = generate_random_date(start_date, end_date)\n",
    "print(random_date)"
   ]
  },
  {
   "cell_type": "code",
   "execution_count": 6,
   "metadata": {},
   "outputs": [
    {
     "data": {
      "text/plain": [
       "'62.5x'"
      ]
     },
     "execution_count": 6,
     "metadata": {},
     "output_type": "execute_result"
    }
   ],
   "source": [
    "import random\n",
    "a = list(range(5,1000))\n",
    "def random_debt_generator():\n",
    "    return random.choice(a)\n",
    "\n",
    "b = [x / 2 for x in range(0, 201)]\n",
    "def random_ebitda_generator():\n",
    "    f= random.choice([\"\",  'x'])\n",
    "    return f\"{random.choice(b)}{f}\"\n",
    "\n",
    "def random_pery_generator():\n",
    "    p = list(range(0,101))\n",
    "    f= random.choice([\"\",  '%'])\n",
    "    return f\"{random.choice(p)}{f}\"\n",
    "\n",
    "random_debt_generator()\n",
    "random_pery_generator()\n",
    "random_ebitda_generator()"
   ]
  },
  {
   "cell_type": "code",
   "execution_count": 7,
   "metadata": {},
   "outputs": [],
   "source": [
    "from tqdm import tqdm\n",
    "from time import time"
   ]
  },
  {
   "cell_type": "code",
   "execution_count": 8,
   "metadata": {},
   "outputs": [],
   "source": [
    "import matplotlib.font_manager as fm\n",
    "\n",
    "# Get the list of font names\n",
    "font_names = [f.name for f in fm.fontManager.ttflist]\n",
    "\n",
    "# Print the list of font names\n",
    "# for font in font_names:\n",
    "#     print(font)\n"
   ]
  },
  {
   "cell_type": "code",
   "execution_count": 9,
   "metadata": {},
   "outputs": [],
   "source": [
    "from openpyxl.styles import Font"
   ]
  },
  {
   "cell_type": "code",
   "execution_count": 10,
   "metadata": {},
   "outputs": [],
   "source": [
    "def get_random_font():\n",
    "    font_list = [\"Calibri\", \"Arial\", \"\"]\n",
    "    ft = Font(name=random.choice(font_names),\n",
    "         size=random.choice(list(range(5, 15))),\n",
    "         bold = random.choice([False, True, False]),\n",
    "         italic = random.choice([False, True]),\n",
    "     #     underline = random.choice([False, True]),\n",
    "        #  color = random.choice(['FF000000', ])\n",
    "         )\n",
    "    \n",
    "    return ft\n",
    "    # font = Font(name='Calibri',\n",
    "    #             size=11,\n",
    "    #             bold=False,\n",
    "    #             italic=False,\n",
    "    #             vertAlign=None,\n",
    "    #             underline='none',\n",
    "    #             strike=False,\n",
    "    #             color='FF000000')"
   ]
  },
  {
   "cell_type": "code",
   "execution_count": 11,
   "metadata": {},
   "outputs": [
    {
     "data": {
      "text/plain": [
       "{'revolver_debt_y1': 'B5',\n",
       " 'term_loan_debt_y1': 'B6',\n",
       " 'leases_debt_y1': 'B7',\n",
       " 'total_senior_debt_debt_y1': 'B8',\n",
       " 'senior_debt_debt_y1': 'B9',\n",
       " 'equity_adj_debt_y1': 'B10',\n",
       " 'market_val_debt_y1': 'B11',\n",
       " 'total_cap_debt_y1': 'B12',\n",
       " 'revolver_debt_y2': 'E5',\n",
       " 'term_loan_debt_y2': 'E6',\n",
       " 'leases_debt_y2': 'E7',\n",
       " 'total_senior_debt_debt_y2': 'E8',\n",
       " 'senior_debt_debt_y2': 'E9',\n",
       " 'equity_adj_debt_y2': 'E10',\n",
       " 'market_val_debt_y2': 'E11',\n",
       " 'total_cap_debt_y2': 'E12',\n",
       " 'revolver_pery1': 'C5',\n",
       " 'term_loan_pery1': 'C6',\n",
       " 'leases_pery1': 'C7',\n",
       " 'total_senior_debt_pery1': 'C8',\n",
       " 'senior_debt_pery1': 'C9',\n",
       " 'equity_adj_pery1': 'C10',\n",
       " 'market_val_pery1': 'C11',\n",
       " 'total_cap_pery1': 'C12',\n",
       " 'revolver_pery2': 'F5',\n",
       " 'term_loan_pery2': 'F6',\n",
       " 'leases_pery2': 'F7',\n",
       " 'total_senior_debt_pery2': 'F8',\n",
       " 'senior_debt_pery2': 'F9',\n",
       " 'equity_adj_pery2': 'F10',\n",
       " 'market_val_pery2': 'F11',\n",
       " 'total_cap_pery2': 'F12',\n",
       " 'revolver_Eby1': 'D5',\n",
       " 'term_loan_Eby1': 'D6',\n",
       " 'leases_Eby1': 'D7',\n",
       " 'total_senior_debt_Eby1': 'D8',\n",
       " 'senior_debt_Eby1': 'D9',\n",
       " 'equity_adj_Eby1': 'D10',\n",
       " 'market_val_Eby1': 'D11',\n",
       " 'total_cap_Eby1': 'D12',\n",
       " 'revolver_Eby2': 'G5',\n",
       " 'term_loan_Eby2': 'G6',\n",
       " 'leases_Eby2': 'G7',\n",
       " 'total_senior_debt_Eby2': 'G8',\n",
       " 'senior_debt_Eby2': 'G9',\n",
       " 'equity_adj_Eby2': 'G10',\n",
       " 'market_val_Eby2': 'G11',\n",
       " 'total_cap_Eby2': 'G12'}"
      ]
     },
     "execution_count": 11,
     "metadata": {},
     "output_type": "execute_result"
    }
   ],
   "source": [
    "kv"
   ]
  },
  {
   "cell_type": "code",
   "execution_count": 12,
   "metadata": {},
   "outputs": [
    {
     "data": {
      "text/plain": [
       "['A6', 'A7', 'A8', 'A9', 'A10', 'A11']"
      ]
     },
     "execution_count": 12,
     "metadata": {},
     "output_type": "execute_result"
    }
   ],
   "source": [
    "title_cells = [f\"A{i}\" for i in range(6,12)]\n",
    "title_cells"
   ]
  },
  {
   "cell_type": "code",
   "execution_count": 13,
   "metadata": {},
   "outputs": [
    {
     "ename": "AttributeError",
     "evalue": "can't set attribute",
     "output_type": "error",
     "traceback": [
      "\u001b[1;31m---------------------------------------------------------------------------\u001b[0m",
      "\u001b[1;31mAttributeError\u001b[0m                            Traceback (most recent call last)",
      "\u001b[1;32m~\\AppData\\Local\\Temp\\ipykernel_20524\\491730224.py\u001b[0m in \u001b[0;36m<module>\u001b[1;34m\u001b[0m\n\u001b[1;32m----> 1\u001b[1;33m \u001b[0mws\u001b[0m\u001b[1;33m.\u001b[0m\u001b[0mshow_gridlines\u001b[0m\u001b[1;33m=\u001b[0m\u001b[1;32mTrue\u001b[0m\u001b[1;33m\u001b[0m\u001b[1;33m\u001b[0m\u001b[0m\n\u001b[0m",
      "\u001b[1;31mAttributeError\u001b[0m: can't set attribute"
     ]
    }
   ],
   "source": [
    "ws.show_gridlines=True"
   ]
  },
  {
   "cell_type": "code",
   "execution_count": 14,
   "metadata": {},
   "outputs": [],
   "source": [
    "ws.sheet_view.showGridLines = False"
   ]
  },
  {
   "cell_type": "code",
   "execution_count": 15,
   "metadata": {},
   "outputs": [
    {
     "name": "stderr",
     "output_type": "stream",
     "text": [
      "  0%|          | 0/5 [00:00<?, ?it/s]"
     ]
    },
    {
     "name": "stdout",
     "output_type": "stream",
     "text": [
      "1----------------\n",
      "2----------------\n",
      "3----------------------------\n",
      "4------------------------------------\n"
     ]
    },
    {
     "name": "stderr",
     "output_type": "stream",
     "text": [
      " 20%|██        | 1/5 [00:11<00:47, 11.83s/it]"
     ]
    },
    {
     "name": "stdout",
     "output_type": "stream",
     "text": [
      "5----------------------\n",
      "1----------------\n",
      "2----------------\n",
      "3----------------------------\n",
      "4------------------------------------\n"
     ]
    }
   ],
   "source": [
    "from openpyxl.styles import Font\n",
    "\n",
    "for i in tqdm(range(10,15)):\n",
    "    print(\"1----------------\")\n",
    "    for cell in title_cells:\n",
    "        ft = get_random_font()\n",
    "        if random.choice([0,0,1]):\n",
    "            ws[cell].value =\"\"\n",
    "            continue\n",
    "        ws[cell].font = ft\n",
    "        \n",
    "    ft = get_random_font()\n",
    "    for cell in debt_cells:\n",
    "        if random.choice([0,0,1]):\n",
    "            ws[cell].value =\"\"\n",
    "            continue\n",
    "        ws[cell].value = random_debt_generator()\n",
    "        \n",
    "    ft = get_random_font()\n",
    "    for cell in ebitda_cells:\n",
    "        if random.choice([0,0,1]):\n",
    "            ws[cell].value =\"\"\n",
    "            continue\n",
    "        ws[cell].value = random_ebitda_generator()\n",
    "        ws[cell].font = ft\n",
    "\n",
    "    ft = get_random_font()\n",
    "    for cell in percent_cells:\n",
    "        if random.choice([0,0,1]):\n",
    "            ws[cell].value =\"\"\n",
    "            continue\n",
    "        ws[cell].value = random_pery_generator()\n",
    "        ws[cell].font = ft\n",
    "    ft = get_random_font()\n",
    "    for cell in date_cells:\n",
    "        ws[cell].value = generate_random_date(start_date, end_date)\n",
    "        ws[cell].font = ft\n",
    "        \n",
    "    print(\"2----------------\")\n",
    "    ft = get_random_font()\n",
    "    ws[\"A2\"].value = random.choice([\"\",\"\", \"$000s\", '000s', \"(000's)\", \"MM's\", \"Millions\", \"Thousands\", \"USD MM\"])\n",
    "    ws[\"A2\"].font = ft\n",
    "    ft = get_random_font()\n",
    "    rand_period = f'{random.choice([\"\", \"LTM\", \"FYE\", \"YTD\", \"TTM\"])}'\n",
    "    rand_period += random.choice([\":\", \" : \", '-', ' - ',\" \"])\n",
    "    rand_period += str(random.choice([\"\", generate_random_date(start_date, end_date), generate_random_date(start_date, end_date), generate_random_date(start_date, end_date)]))\n",
    "    ws[\"B14\"].value = rand_period\n",
    "    ws[\"A2\"].font = ft\n",
    "    print(\"3----------------------------\")\n",
    "    ft = get_random_font()\n",
    "    ws[\"A14\"].value = str(random.choice([\"Adj. EBITDA\", \"Adjusted EBITDA\", \"ADJUSTED EBITDA\",\"ADJ. EBITDA\", \"Un-Adj. EBITDA\", \"EBITDA\"]))\n",
    "    ws.sheet_view.showGridLines = random.choice([False, True])\n",
    "    wb.save(\"new_xl.xlsx\")\n",
    "    print(\"4------------------------------------\")\n",
    "    \n",
    "    try:\n",
    "        excel2img.export_img(r\"new_xl.xlsx\" ,rf\"..\\data\\output\\excel\\levcap2\\image_{i}.png\",\"Sheet2\", None)\n",
    "    except OSError:\n",
    "        FLAG =True\n",
    "        while FLAG:\n",
    "            try:\n",
    "                print('x')\n",
    "                time.sleep(10)\n",
    "                excel2img.export_img(r\"new_xl.xlsx\" ,rf\"..\\data\\output\\excel\\levcap2\\image_{i}.png\",\"Sheet2\", None)\n",
    "                break\n",
    "            except KeyboardInterrupt:\n",
    "                FLAG=False\n",
    "                break\n",
    "            except:\n",
    "                continue\n",
    "    print('5----------------------')\n",
    "            "
   ]
  },
  {
   "cell_type": "markdown",
   "metadata": {},
   "source": [
    "----\n",
    "----\n",
    "#### Save Excel to Image"
   ]
  },
  {
   "cell_type": "code",
   "execution_count": null,
   "metadata": {},
   "outputs": [],
   "source": [
    "# excel2img.export_img(r\"new_xl.xlsx\" ,rf\"..\\data\\output\\excel\\levcap2\\image_{i}.png\",\"Sheet2\", None)\n",
    "\n",
    "excel2img.export_img(r\"new_xl.xlsx\" ,rf\"..\\data\\output\\excel\\levcap2\\image_{i}.png\",\"\", \"Sheet2!B1:C10\")\n"
   ]
  },
  {
   "cell_type": "code",
   "execution_count": null,
   "metadata": {},
   "outputs": [],
   "source": [
    "import excel2img # needs `python3.7`\n",
    "wb.save(\"new_xl.xlsx\")\n",
    "i =0\n",
    "excel2img.export_img(r\"new_xl.xlsx\" ,rf\"..\\data\\output\\excel\\levcap2\\image_{i}.png\",\"Sheet2\", None)\n",
    "# excel2img.export_img(r\"C:\\Users\\mazha\\OneDrive\\Work\\Synthetic-DocGen\\data\\document-templates\\excel\\levcap-CAD.xlsx\",\"image.png\",\"Sheet2\", None)\n",
    "\n",
    "\n",
    "# excel2img.export_img(r\"new_xl.xlsx\",r\"C:\\Users\\mazha\\OneDrive\\Work\\Synthetic-DocGen\\data\\output\\excel\\levcap\\image.png\",\"Sheet2\", None)\n",
    "\n",
    "# excel2img.export_img(r\"C:\\Users\\mazha\\OneDrive\\Work\\Synthetic-DocGen\\data\\document-templates\\excel\\levcap-CAD.xlsx\",\"image.png\",\"Sheet2!A2:C10\")"
   ]
  }
 ],
 "metadata": {
  "kernelspec": {
   "display_name": "terminate",
   "language": "python",
   "name": "python3"
  },
  "language_info": {
   "codemirror_mode": {
    "name": "ipython",
    "version": 3
   },
   "file_extension": ".py",
   "mimetype": "text/x-python",
   "name": "python",
   "nbconvert_exporter": "python",
   "pygments_lexer": "ipython3",
   "version": "3.7.16"
  }
 },
 "nbformat": 4,
 "nbformat_minor": 2
}
