{
 "cells": [
  {
   "cell_type": "code",
   "execution_count": 191,
   "metadata": {},
   "outputs": [],
   "source": [
    "from openpyxl.workbook import Workbook\n",
    "from openpyxl import load_workbook\n",
    "wb = load_workbook(r\"..\\data\\document-templates\\excel\\levcap-CAD.xlsx\")"
   ]
  },
  {
   "cell_type": "code",
   "execution_count": 192,
   "metadata": {},
   "outputs": [],
   "source": [
    "ws = wb['Sheet2']  # Replace 'Sheet1' with your sheet name"
   ]
  },
  {
   "cell_type": "code",
   "execution_count": 8,
   "metadata": {},
   "outputs": [
    {
     "data": {
      "text/plain": [
       "0"
      ]
     },
     "execution_count": 8,
     "metadata": {},
     "output_type": "execute_result"
    }
   ],
   "source": [
    "ws[\"B5\"].value"
   ]
  },
  {
   "cell_type": "code",
   "execution_count": 9,
   "metadata": {},
   "outputs": [],
   "source": [
    "ws[\"B5\"].value=\"TAHA\""
   ]
  },
  {
   "cell_type": "code",
   "execution_count": null,
   "metadata": {},
   "outputs": [],
   "source": []
  },
  {
   "cell_type": "code",
   "execution_count": 32,
   "metadata": {},
   "outputs": [],
   "source": [
    "a = \"\"\"revolver_debt_y1\tB5\n",
    "term_loan_debt_y1\tB6\n",
    "leases_debt_y1\tB7\n",
    "total_senior_debt_debt_y1\tB8\n",
    "senior_debt_debt_y1\tB9\n",
    "equity_adj_debt_y1\tB10\n",
    "market_val_debt_y1\tB11\n",
    "total_cap_debt_y1\tB12\n",
    "revolver_debt_y2\tE5\n",
    "term_loan_debt_y2\tE6\n",
    "leases_debt_y2\tE7\n",
    "total_senior_debt_debt_y2\tE8\n",
    "senior_debt_debt_y2\tE9\n",
    "equity_adj_debt_y2\tE10\n",
    "market_val_debt_y2\tE11\n",
    "total_cap_debt_y2\tE12\n",
    "revolver_pery1\tC5\n",
    "term_loan_pery1\tC6\n",
    "leases_pery1\tC7\n",
    "total_senior_debt_pery1\tC8\n",
    "senior_debt_pery1\tC9\n",
    "equity_adj_pery1\tC10\n",
    "market_val_pery1\tC11\n",
    "total_cap_pery1\tC12\n",
    "revolver_pery2\tF5\n",
    "term_loan_pery2\tF6\n",
    "leases_pery2\tF7\n",
    "total_senior_debt_pery2\tF8\n",
    "senior_debt_pery2\tF9\n",
    "equity_adj_pery2\tF10\n",
    "market_val_pery2\tF11\n",
    "total_cap_pery2\tF12\n",
    "revolver_Eby1\tD5\n",
    "term_loan_Eby1\tD6\n",
    "leases_Eby1\tD7\n",
    "total_senior_debt_Eby1\tD8\n",
    "senior_debt_Eby1\tD9\n",
    "equity_adj_Eby1\tD10\n",
    "market_val_Eby1\tD11\n",
    "total_cap_Eby1\tD12\n",
    "revolver_Eby2\tG5\n",
    "term_loan_Eby2\tG6\n",
    "leases_Eby2\tG7\n",
    "total_senior_debt_Eby2\tG8\n",
    "senior_debt_Eby2\tG9\n",
    "equity_adj_Eby2\tG10\n",
    "market_val_Eby2\tG11\n",
    "total_cap_Eby2\tG12\n",
    "\"\"\".strip().split(\"\\n\")\n",
    "\n",
    "kv = {}\n",
    "for o in a:\n",
    "    k,v = o.split('\\t')\n",
    "    kv[k] = v\n"
   ]
  },
  {
   "cell_type": "code",
   "execution_count": 90,
   "metadata": {},
   "outputs": [
    {
     "data": {
      "text/plain": [
       "datetime.datetime(2019, 9, 30, 0, 0)"
      ]
     },
     "execution_count": 90,
     "metadata": {},
     "output_type": "execute_result"
    }
   ],
   "source": [
    "ws[\"E2\"].value"
   ]
  },
  {
   "cell_type": "code",
   "execution_count": 137,
   "metadata": {},
   "outputs": [],
   "source": [
    "debt_cells = [] \n",
    "ebitda_cells = []\n",
    "percent_cells = []\n",
    "date_cells = ['B2', 'E2']\n",
    "for k,v in kv.items():\n",
    "    if 'debt' in k:\n",
    "        # print(k,v)\n",
    "        debt_cells.append(v)\n",
    "    if 'Eby' in k:\n",
    "        ebitda_cells.append(v)\n",
    "    if 'pery' in k:\n",
    "        percent_cells.append(v)"
   ]
  },
  {
   "cell_type": "code",
   "execution_count": 135,
   "metadata": {},
   "outputs": [
    {
     "name": "stdout",
     "output_type": "stream",
     "text": [
      "1997-05-21\n"
     ]
    }
   ],
   "source": [
    "import random\n",
    "from datetime import datetime, timedelta\n",
    "\n",
    "def generate_random_date(start_date, end_date):\n",
    "    \"\"\"\n",
    "    Generate a random date between start_date and end_date.\n",
    "    \n",
    "    Parameters:\n",
    "    start_date (datetime): The start date (inclusive).\n",
    "    end_date (datetime): The end date (inclusive).\n",
    "    \n",
    "    Returns:\n",
    "    datetime: A random date between start_date and end_date.\n",
    "    \"\"\"\n",
    "    # Calculate the difference in days between start_date and end_date\n",
    "    delta = end_date - start_date\n",
    "    \n",
    "    # Generate a random number of days to add to start_date\n",
    "    random_days = random.randint(0, delta.days)\n",
    "    \n",
    "    # Generate the random date\n",
    "    random_date = start_date + timedelta(days=random_days)\n",
    "    \n",
    "    return random_date.date()\n",
    "\n",
    "# Example usage:\n",
    "start_date = datetime(1990, 1, 1)\n",
    "end_date = datetime(2023, 12, 31)\n",
    "\n",
    "random_date = generate_random_date(start_date, end_date)\n",
    "print(random_date)"
   ]
  },
  {
   "cell_type": "code",
   "execution_count": 146,
   "metadata": {},
   "outputs": [
    {
     "name": "stderr",
     "output_type": "stream",
     "text": [
      "ERROR: Ignored the following versions that require a different python version: 1.22.0 Requires-Python >=3.8; 1.22.1 Requires-Python >=3.8; 1.22.2 Requires-Python >=3.8; 1.22.3 Requires-Python >=3.8; 1.22.4 Requires-Python >=3.8; 1.23.0 Requires-Python >=3.8; 1.23.0rc1 Requires-Python >=3.8; 1.23.0rc2 Requires-Python >=3.8; 1.23.0rc3 Requires-Python >=3.8; 1.23.1 Requires-Python >=3.8; 1.23.2 Requires-Python >=3.8; 1.23.3 Requires-Python >=3.8; 1.23.4 Requires-Python >=3.8; 1.23.5 Requires-Python >=3.8; 1.24.0 Requires-Python >=3.8; 1.24.0rc1 Requires-Python >=3.8; 1.24.0rc2 Requires-Python >=3.8; 1.24.1 Requires-Python >=3.8; 1.24.2 Requires-Python >=3.8; 1.24.3 Requires-Python >=3.8; 1.24.4 Requires-Python >=3.8; 1.25.0 Requires-Python >=3.9; 1.25.0rc1 Requires-Python >=3.9; 1.25.1 Requires-Python >=3.9; 1.25.2 Requires-Python >=3.9; 1.26.0 Requires-Python <3.13,>=3.9; 1.26.0b1 Requires-Python <3.13,>=3.9; 1.26.0rc1 Requires-Python <3.13,>=3.9; 1.26.1 Requires-Python <3.13,>=3.9; 1.26.2 Requires-Python >=3.9; 1.26.3 Requires-Python >=3.9; 1.26.4 Requires-Python >=3.9; 2.0.0 Requires-Python >=3.9; 2.0.0b1 Requires-Python >=3.9; 2.0.0rc1 Requires-Python >=3.9; 2.0.0rc2 Requires-Python >=3.9\n",
      "ERROR: Could not find a version that satisfies the requirement as (from versions: none)\n",
      "ERROR: No matching distribution found for as\n"
     ]
    },
    {
     "name": "stdout",
     "output_type": "stream",
     "text": [
      "Collecting numpy\n",
      "  Downloading numpy-1.21.6-cp37-cp37m-win_amd64.whl (14.0 MB)\n",
      "     -------------------------------------- 14.0/14.0 MB 599.0 kB/s eta 0:00:00\n",
      "Collecting numpy\n",
      "  Downloading numpy-1.21.6-cp37-cp37m-win_amd64.whl (14.0 MB)\n",
      "     -------------------------------------- 14.0/14.0 MB 848.5 kB/s eta 0:00:00\n",
      "Installing collected packages: numpy\n",
      "Successfully installed numpy-1.21.6\n"
     ]
    }
   ],
   "source": [
    "!pip install numpy"
   ]
  },
  {
   "cell_type": "code",
   "execution_count": null,
   "metadata": {},
   "outputs": [],
   "source": []
  },
  {
   "cell_type": "code",
   "execution_count": 181,
   "metadata": {},
   "outputs": [
    {
     "data": {
      "text/plain": [
       "'40.5'"
      ]
     },
     "execution_count": 181,
     "metadata": {},
     "output_type": "execute_result"
    }
   ],
   "source": [
    "import random\n",
    "a = list(range(5,1000))\n",
    "def random_debt_generator():\n",
    "    return random.choice(a)\n",
    "\n",
    "b = [x / 2 for x in range(0, 201)]\n",
    "def random_ebitda_generator():\n",
    "    f= random.choice([\"\",  'x'])\n",
    "    return f\"{random.choice(b)}{f}\"\n",
    "\n",
    "def random_pery_generator():\n",
    "    p = list(range(0,101))\n",
    "    f= random.choice([\"\",  '%'])\n",
    "    return f\"{random.choice(p)}{f}\"\n",
    "\n",
    "random_debt_generator()\n",
    "random_pery_generator()\n",
    "random_ebitda_generator()"
   ]
  },
  {
   "cell_type": "code",
   "execution_count": 217,
   "metadata": {},
   "outputs": [],
   "source": [
    "if random.choice([0,1]): \n",
    "    print(1)"
   ]
  },
  {
   "cell_type": "code",
   "execution_count": 219,
   "metadata": {},
   "outputs": [],
   "source": [
    "for i in range(10):\n",
    "    for cell in debt_cells:\n",
    "        if random.choice([0,0,1]):\n",
    "            ws[cell].value =\"\"\n",
    "            continue\n",
    "        ws[cell].value = random_debt_generator()\n",
    "    for cell in ebitda_cells:\n",
    "        if random.choice([0,0,1]):\n",
    "            ws[cell].value =\"\"\n",
    "            continue\n",
    "        ws[cell].value = random_ebitda_generator()\n",
    "    for cell in percent_cells:\n",
    "        if random.choice([0,0,1]):\n",
    "            ws[cell].value =\"\"\n",
    "            continue\n",
    "        ws[cell].value = random_pery_generator()\n",
    "\n",
    "    for cell in date_cells:\n",
    "        ws[cell] = generate_random_date(start_date, end_date)\n",
    "        \n",
    "    ws[\"A2\"] = random.choice([\"\",\"\", \"$000s\", '000s', \"(000's)\", \"MM's\", \"Millions\", \"Thousands\", \"USD MM\"])\n",
    "    wb.save(\"new_xl.xlsx\")\n",
    "\n",
    "    excel2img.export_img(r\"new_xl.xlsx\",rf\"C:\\Users\\mazha\\OneDrive\\Work\\Synthetic-DocGen\\data\\output\\excel\\levcap\\image_{i}.png\",\"Sheet2\", None)"
   ]
  },
  {
   "cell_type": "markdown",
   "metadata": {},
   "source": [
    "----\n",
    "----\n",
    "#### Save Excel to Image"
   ]
  },
  {
   "cell_type": "code",
   "execution_count": 186,
   "metadata": {},
   "outputs": [],
   "source": [
    "import excel2img # needs `python3.7`\n",
    "wb.save(\"new_xl.xlsx\")\n",
    "# excel2img.export_img(r\"C:\\Users\\mazha\\OneDrive\\Work\\Synthetic-DocGen\\data\\document-templates\\excel\\levcap-CAD.xlsx\",\"image.png\",\"Sheet2\", None)\n",
    "\n",
    "\n",
    "excel2img.export_img(r\"new_xl.xlsx\",r\"C:\\Users\\mazha\\OneDrive\\Work\\Synthetic-DocGen\\data\\output\\excel\\levcap\\image.png\",\"Sheet2\", None)\n",
    "\n",
    "# excel2img.export_img(r\"C:\\Users\\mazha\\OneDrive\\Work\\Synthetic-DocGen\\data\\document-templates\\excel\\levcap-CAD.xlsx\",\"image.png\",\"Sheet2!A2:C10\")"
   ]
  }
 ],
 "metadata": {
  "kernelspec": {
   "display_name": "terminate",
   "language": "python",
   "name": "python3"
  },
  "language_info": {
   "codemirror_mode": {
    "name": "ipython",
    "version": 3
   },
   "file_extension": ".py",
   "mimetype": "text/x-python",
   "name": "python",
   "nbconvert_exporter": "python",
   "pygments_lexer": "ipython3",
   "version": "3.7.16"
  }
 },
 "nbformat": 4,
 "nbformat_minor": 2
}
